{
 "cells": [
  {
   "cell_type": "markdown",
   "metadata": {},
   "source": [
    "\n",
    "# Basic Plotting with `matplotlib` \n",
    "\n",
    "## Objectives\n",
    "* Create sample data for plotting exercises.\n",
    "* Plot and label simple line graphs.\n",
    "* Define, plot and label multiple absolute axes using `add_axes()` function. \n",
    "* Define, plot and label multiple axes using `add_subplot()` function. \n",
    "\n",
    "\n",
    "## Introduction\n",
    "\n",
    "This lab requires you to draw some basic visualizations using the techniques learnt in the previous lesson \"Data Visualization with matplotlib\". \n",
    "\n",
    "Let's first generate some data to carry out following exercises:\n",
    "\n",
    "Perform following tasks:\n",
    "\n",
    "* Create a variable x using numpy's `.arange()` function containing values from 0 to 99.\n",
    "\n",
    "* Create a second variable y by multiplying each value in x by 2. \n",
    "\n",
    "* Create a third variable z as square of values in x.\n",
    "\n",
    "* Print x, y and z"
   ]
  },
  {
   "cell_type": "code",
   "execution_count": 1,
   "metadata": {},
   "outputs": [
    {
     "name": "stdout",
     "output_type": "stream",
     "text": [
      "[ 0  1  2  3  4  5  6  7  8  9 10 11 12 13 14 15 16 17 18 19 20 21 22 23\n",
      " 24 25 26 27 28 29 30 31 32 33 34 35 36 37 38 39 40 41 42 43 44 45 46 47\n",
      " 48 49 50 51 52 53 54 55 56 57 58 59 60 61 62 63 64 65 66 67 68 69 70 71\n",
      " 72 73 74 75 76 77 78 79 80 81 82 83 84 85 86 87 88 89 90 91 92 93 94 95\n",
      " 96 97 98 99]\n",
      "[  0   2   4   6   8  10  12  14  16  18  20  22  24  26  28  30  32  34\n",
      "  36  38  40  42  44  46  48  50  52  54  56  58  60  62  64  66  68  70\n",
      "  72  74  76  78  80  82  84  86  88  90  92  94  96  98 100 102 104 106\n",
      " 108 110 112 114 116 118 120 122 124 126 128 130 132 134 136 138 140 142\n",
      " 144 146 148 150 152 154 156 158 160 162 164 166 168 170 172 174 176 178\n",
      " 180 182 184 186 188 190 192 194 196 198]\n",
      "[   0    1    4    9   16   25   36   49   64   81  100  121  144  169\n",
      "  196  225  256  289  324  361  400  441  484  529  576  625  676  729\n",
      "  784  841  900  961 1024 1089 1156 1225 1296 1369 1444 1521 1600 1681\n",
      " 1764 1849 1936 2025 2116 2209 2304 2401 2500 2601 2704 2809 2916 3025\n",
      " 3136 3249 3364 3481 3600 3721 3844 3969 4096 4225 4356 4489 4624 4761\n",
      " 4900 5041 5184 5329 5476 5625 5776 5929 6084 6241 6400 6561 6724 6889\n",
      " 7056 7225 7396 7569 7744 7921 8100 8281 8464 8649 8836 9025 9216 9409\n",
      " 9604 9801]\n"
     ]
    }
   ],
   "source": [
    "import numpy as np\n",
    "x = np.arange(0,100,1) \n",
    "y = np.multiply(x,2) \n",
    "z = np.square(x) \n",
    "print(x)\n",
    "print(y)\n",
    "print(z) "
   ]
  },
  {
   "cell_type": "markdown",
   "metadata": {},
   "source": [
    "Import `matplotlib.pyplot` as `plt` and set `%matplotlib inline`  for generating inline images in jupyter notebooks. "
   ]
  },
  {
   "cell_type": "code",
   "execution_count": 2,
   "metadata": {},
   "outputs": [],
   "source": [
    "import matplotlib.pyplot as plot\n",
    "%matplotlib inline"
   ]
  },
  {
   "cell_type": "markdown",
   "metadata": {},
   "source": [
    "Now that we have our data all set and matplotlib in our python environment, we can try some basic plotting techniques."
   ]
  },
  {
   "cell_type": "markdown",
   "metadata": {},
   "source": [
    "## Exercise 1\n",
    "\n",
    "Perform the following steps in the cell below:\n",
    "\n",
    "* Create a new figure object `fig` using `.figure()` function.\n",
    "* Use `add_axes()` to add an axis `ax` to the canvas at absolute location [0,0,1,1].\n",
    "* Plot (x,y) on that axes and set the labels and title. "
   ]
  },
  {
   "cell_type": "code",
   "execution_count": 3,
   "metadata": {},
   "outputs": [
    {
     "ename": "NameError",
     "evalue": "name 'plt' is not defined",
     "output_type": "error",
     "traceback": [
      "\u001b[0;31m\u001b[0m",
      "\u001b[0;31mNameError\u001b[0mTraceback (most recent call last)",
      "\u001b[0;32m<ipython-input-3-c5161c494378>\u001b[0m in \u001b[0;36m<module>\u001b[0;34m()\u001b[0m\n\u001b[0;32m----> 1\u001b[0;31m \u001b[0mfig\u001b[0m \u001b[0;34m=\u001b[0m \u001b[0mplt\u001b[0m\u001b[0;34m.\u001b[0m\u001b[0mfigure\u001b[0m\u001b[0;34m(\u001b[0m\u001b[0;34m)\u001b[0m\u001b[0;34m\u001b[0m\u001b[0m\n\u001b[0m\u001b[1;32m      2\u001b[0m \u001b[0max\u001b[0m \u001b[0;34m=\u001b[0m \u001b[0mfig\u001b[0m\u001b[0;34m.\u001b[0m\u001b[0madd_axes\u001b[0m\u001b[0;34m(\u001b[0m\u001b[0;34m[\u001b[0m\u001b[0;36m0\u001b[0m\u001b[0;34m,\u001b[0m\u001b[0;36m0\u001b[0m\u001b[0;34m,\u001b[0m\u001b[0;36m1\u001b[0m\u001b[0;34m,\u001b[0m\u001b[0;36m1\u001b[0m\u001b[0;34m]\u001b[0m\u001b[0;34m)\u001b[0m\u001b[0;34m\u001b[0m\u001b[0m\n\u001b[1;32m      3\u001b[0m \u001b[0max\u001b[0m\u001b[0;34m.\u001b[0m\u001b[0mplot\u001b[0m\u001b[0;34m(\u001b[0m\u001b[0mx\u001b[0m\u001b[0;34m,\u001b[0m\u001b[0my\u001b[0m\u001b[0;34m)\u001b[0m\u001b[0;34m\u001b[0m\u001b[0m\n\u001b[1;32m      4\u001b[0m \u001b[0mplt\u001b[0m\u001b[0;34m.\u001b[0m\u001b[0mxlabel\u001b[0m\u001b[0;34m(\u001b[0m\u001b[0;34m'X axis'\u001b[0m\u001b[0;34m)\u001b[0m\u001b[0;34m\u001b[0m\u001b[0m\n\u001b[1;32m      5\u001b[0m \u001b[0mplt\u001b[0m\u001b[0;34m.\u001b[0m\u001b[0mylabel\u001b[0m\u001b[0;34m(\u001b[0m\u001b[0;34m'Y axis'\u001b[0m\u001b[0;34m)\u001b[0m\u001b[0;34m\u001b[0m\u001b[0m\n",
      "\u001b[0;31mNameError\u001b[0m: name 'plt' is not defined"
     ]
    }
   ],
   "source": [
    "fig = plt.figure() \n",
    "ax = fig.add_axes([0,0,1,1]) \n",
    "ax.plot(x,y) \n",
    "plt.xlabel('X axis') \n",
    "plt.ylabel('Y axis') \n",
    "plt.title('This ole thang')"
   ]
  },
  {
   "cell_type": "markdown",
   "metadata": {},
   "source": [
    "This was easy, let's move on to drawing multiple plots within a figure space. \n",
    "\n",
    "## Exercise 2\n",
    "\n",
    "Perform following actions:\n",
    "\n",
    "* Create a figure object `fig` and put two axes on it, `ax1` and `ax2`. \n",
    "* Set the locations of `ax1` and `ax2` at [0,0,1,1] and [.2,.6,.3,.3] respectively.\n",
    "* Plot x and y on both axes. \n",
    "* Label the axes with variable names and give the plots titles as \"Small Plot\" and \"Large Plot\". "
   ]
  },
  {
   "cell_type": "code",
   "execution_count": null,
   "metadata": {},
   "outputs": [],
   "source": [
    "fig = plt.figure()\n",
    "ax1 = fig.add_axes([0,0,1,1]) \n",
    "ax2 = fig.add_axes([.2,.6,.3,.3])\n",
    "ax1.plot(x,y) \n",
    "ax2.plot(x,y) \n",
    "ax1.set_title('Large Plot') \n",
    "ax2.set_title('Small Plot') \n",
    "ax1.set_xlabel('variable - X')\n",
    "ax1.set_ylabel('variable - Y')\n",
    "ax2.set_xlabel('variable - X') \n",
    "ax2.set_ylabel('variable - y') "
   ]
  },
  {
   "cell_type": "code",
   "execution_count": null,
   "metadata": {
    "scrolled": true
   },
   "outputs": [],
   "source": []
  },
  {
   "cell_type": "markdown",
   "metadata": {},
   "source": [
    "## Exercise 3\n",
    "\n",
    "Perform following tasks in the cell below:\n",
    "\n",
    "* Create a new figure of size 8 x 6 inches. \n",
    "* Create the plot below by adding two absolute axes to the figure object at [0,0,1,1] and [0.2,0.5,.4,.4].\n",
    "\n",
    "* Use x,y, and z arrays to create:\n",
    "    * Large plot between x and z. \n",
    "    * Small (inserted) plot between x and y. \n",
    "\n",
    "* Set the axes range for small plot as 15 - 45 for x-axis, and 30 - 80 for y -axis\n",
    "* Set the line color for outer and inserted plots as green and red respectively\n",
    "* Label your axes and give suitable titles to the plot.\n",
    "\n"
   ]
  },
  {
   "cell_type": "code",
   "execution_count": null,
   "metadata": {},
   "outputs": [],
   "source": [
    "fig = plot.figure(figsize=(8,6)) \n",
    "ax1 = fig.add_axes([0,0,1,1])\n",
    "ax2 = fig.add_axes([0.2,0.5,.4,.4])\n",
    "ax1.plot(x, z, color = 'green') \n",
    "ax2.plot(x, y, color = 'r')  \n",
    "ax2.set_xlim(15, 45), ax2.set_ylim(30, 80) \n",
    "ax1.set_xlabel('variable - x')\n",
    "ax2.set_xlabel('variable - x') \n",
    "ax1.set_ylabel('variable - z') \n",
    "ax2.set_ylabel('variable - y') \n",
    "ax1.set_title('Large Guy') \n",
    "ax2.set_title('Small Guy')"
   ]
  },
  {
   "cell_type": "markdown",
   "metadata": {},
   "source": [
    "## Exercise 4\n",
    "\n",
    "Perform following steps in the cell below:\n",
    "\n",
    "* Create a figure of size 8x6 inches\n",
    "* Add two axes using relative subplots to the figure by dividing it in 1 row and 2 columns\n",
    "* Plot (x,y) and (x,z) on the ax1 and ax2 respectively. \n",
    "* Set the line width of first axes to 3, line style as dotted and color it red.\n",
    "* Set the line width of second axes to5, line style as dash-dot (-.) and color it blue.\n",
    "* Give the plots some labels and titles"
   ]
  },
  {
   "cell_type": "code",
   "execution_count": null,
   "metadata": {},
   "outputs": [],
   "source": [
    "fig = plot.figure(figsize=(8,6)) \n",
    "ax1 = fig.add_subplot(121)\n",
    "ax2 = fig.add_subplot(122) \n",
    "ax1.plot(x,y, lw = 3, ls = 'dotted', color = 'r') \n",
    "ax2.plot(x,z, lw = 5, ls = '-.', color = 'blue') \n",
    "ax1.set_xlabel('x-var'), ax1.set_ylabel('y-var') \n",
    "ax2.set_xlabel('x-var'), ax2.set_ylabel('z-var') \n"
   ]
  },
  {
   "cell_type": "code",
   "execution_count": null,
   "metadata": {},
   "outputs": [],
   "source": []
  },
  {
   "cell_type": "markdown",
   "metadata": {},
   "source": [
    "## Exercise 5\n",
    "\n",
    "Above figure looks fine but a bit out of proportion. Let's resize this to make the plots look more appealing by ensuring that subplots are square in shape. Also change the line style of first plot (left) and change the type of 2nd plot (right) to a scatter plot with a `^` marker style."
   ]
  },
  {
   "cell_type": "code",
   "execution_count": 1,
   "metadata": {},
   "outputs": [
    {
     "ename": "NameError",
     "evalue": "name 'plot' is not defined",
     "output_type": "error",
     "traceback": [
      "\u001b[0;31m\u001b[0m",
      "\u001b[0;31mNameError\u001b[0mTraceback (most recent call last)",
      "\u001b[0;32m<ipython-input-1-cfddbdc1436a>\u001b[0m in \u001b[0;36m<module>\u001b[0;34m()\u001b[0m\n\u001b[0;32m----> 1\u001b[0;31m \u001b[0mplot\u001b[0m\u001b[0;34m.\u001b[0m\u001b[0msubplots\u001b[0m\u001b[0;34m(\u001b[0m\u001b[0mfigsize\u001b[0m\u001b[0;34m=\u001b[0m\u001b[0;34m(\u001b[0m\u001b[0;36m8\u001b[0m\u001b[0;34m,\u001b[0m\u001b[0;36m8\u001b[0m\u001b[0;34m)\u001b[0m\u001b[0;34m)\u001b[0m\u001b[0;34m\u001b[0m\u001b[0m\n\u001b[0m",
      "\u001b[0;31mNameError\u001b[0m: name 'plot' is not defined"
     ]
    }
   ],
   "source": [
    "plot.subplots(figsize=(8,8)) "
   ]
  },
  {
   "cell_type": "code",
   "execution_count": null,
   "metadata": {},
   "outputs": [],
   "source": []
  },
  {
   "cell_type": "markdown",
   "metadata": {},
   "source": [
    "Congratulations, You have now learnt the basics plotting/labelling and customization techniques in matplotlib. Following lessons will focus on employing these techniques to plot for multiple data types in different analysis contexts. \n"
   ]
  },
  {
   "cell_type": "markdown",
   "metadata": {},
   "source": [
    "### Summary :\n",
    "\n",
    "This lab focused on ensuring that you understand the basics plotting techqniues in matplotlib using plotting objects and functions to draw single plots, multiple/subplots using absolute and relative plotting. You also learnt how to customize the plots with labels, titles and axes definitions. Next we shall look into plotting more interesting plots with some real data. "
   ]
  },
  {
   "cell_type": "code",
   "execution_count": null,
   "metadata": {},
   "outputs": [],
   "source": []
  }
 ],
 "metadata": {
  "kernelspec": {
   "display_name": "Python 3",
   "language": "python",
   "name": "python3"
  },
  "language_info": {
   "codemirror_mode": {
    "name": "ipython",
    "version": 3
   },
   "file_extension": ".py",
   "mimetype": "text/x-python",
   "name": "python",
   "nbconvert_exporter": "python",
   "pygments_lexer": "ipython3",
   "version": "3.6.6"
  }
 },
 "nbformat": 4,
 "nbformat_minor": 1
}
